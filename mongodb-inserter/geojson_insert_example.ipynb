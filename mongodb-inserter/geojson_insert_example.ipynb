{
 "cells": [
  {
   "cell_type": "code",
   "execution_count": 1,
   "metadata": {},
   "outputs": [],
   "source": [
    "from json import loads\n",
    "from pymongo import MongoClient, GEOSPHERE\n",
    "from os import getenv"
   ]
  },
  {
   "cell_type": "code",
   "execution_count": 2,
   "metadata": {},
   "outputs": [],
   "source": [
    "password = getenv('MONGODB_ROOT_PASSWORD')\n",
    "client = MongoClient('mongodb://root:{}@my-mongodb:27017'.format(password))\n",
    "db = client['geotest-db']"
   ]
  },
  {
   "cell_type": "code",
   "execution_count": 4,
   "metadata": {},
   "outputs": [],
   "source": [
    "geo_collection = db['2020_pop_geojson']"
   ]
  },
  {
   "cell_type": "markdown",
   "metadata": {},
   "source": [
    "Create an index on the geometry property, which will contain all geographical data. Makes searching faster."
   ]
  },
  {
   "cell_type": "code",
   "execution_count": 5,
   "metadata": {},
   "outputs": [
    {
     "data": {
      "text/plain": [
       "'geometry_2dsphere'"
      ]
     },
     "execution_count": 5,
     "metadata": {},
     "output_type": "execute_result"
    }
   ],
   "source": [
    "geo_collection.create_index([('geometry', GEOSPHERE)])"
   ]
  },
  {
   "cell_type": "markdown",
   "metadata": {},
   "source": [
    "Consume all Kafka messages one-by-one and insert values into database."
   ]
  },
  {
   "cell_type": "code",
   "execution_count": null,
   "metadata": {},
   "outputs": [],
   "source": [
    "from kafka import KafkaConsumer\n",
    "from tqdm.notebook import tqdm\n",
    "\n",
    "consumer = KafkaConsumer(\n",
    "  '2020_pop_points',\n",
    "  bootstrap_servers=['my-kafka:9092'], \n",
    "  auto_offset_reset='earliest',\n",
    "  enable_auto_commit=False,\n",
    "  value_deserializer= lambda x: loads(x.decode('utf-8'))\n",
    ")\n",
    "\n",
    "for message in tqdm(consumer):\n",
    "    geo_collection.insert_one(message.value) # deserialized to json"
   ]
  },
  {
   "cell_type": "code",
   "execution_count": 22,
   "metadata": {},
   "outputs": [
    {
     "name": "stdout",
     "output_type": "stream",
     "text": [
      "{'_id': ObjectId('5e7716c61340a85849bbed77'), 'type': 'Feature', 'properties': {'raster_val': '0.00079989445'}, 'geometry': {'type': 'Point', 'coordinates': [62.13208309980001, 33.86625006591001]}}\n",
      "{'_id': ObjectId('5e7716d31340a85849bbed78'), 'type': 'Feature', 'properties': {'raster_val': '0.00849228'}, 'geometry': {'type': 'Point', 'coordinates': [62.13208309980001, 33.86625006591001]}}\n",
      "{'_id': ObjectId('5e7716d41340a85849bbed79'), 'type': 'Feature', 'properties': {'raster_val': '0.017656343'}, 'geometry': {'type': 'Point', 'coordinates': [62.13208309980001, 33.86625006591001]}}\n",
      "{'_id': ObjectId('5e7716d51340a85849bbed7a'), 'type': 'Feature', 'properties': {'raster_val': '0.0330576'}, 'geometry': {'type': 'Point', 'coordinates': [62.13208309980001, 33.86625006591001]}}\n",
      "{'_id': ObjectId('5e7716d61340a85849bbed7b'), 'type': 'Feature', 'properties': {'raster_val': '0.027320117'}, 'geometry': {'type': 'Point', 'coordinates': [62.13208309980001, 33.86625006591001]}}\n"
     ]
    }
   ],
   "source": [
    "features = geo_collection.find({'geometry' : {'$within': {'$box' : [[100, 100],[0,0]]}}}).limit(5)\n",
    "\n",
    "for f in features:\n",
    "    print(f)"
   ]
  },
  {
   "cell_type": "code",
   "execution_count": 21,
   "metadata": {},
   "outputs": [
    {
     "name": "stdout",
     "output_type": "stream",
     "text": [
      "{'_id': ObjectId('5e7716c61340a85849bbed77'), 'type': 'Feature', 'properties': {'raster_val': '0.00079989445'}, 'geometry': {'type': 'Point', 'coordinates': [62.13208309980001, 33.86625006591001]}}\n",
      "{'_id': ObjectId('5e7716d41340a85849bbed79'), 'type': 'Feature', 'properties': {'raster_val': '0.017656343'}, 'geometry': {'type': 'Point', 'coordinates': [62.13208309980001, 33.86625006591001]}}\n",
      "{'_id': ObjectId('5e7716d71340a85849bbed7d'), 'type': 'Feature', 'properties': {'raster_val': '0.04882768'}, 'geometry': {'type': 'Point', 'coordinates': [62.13208309980001, 33.86625006591001]}}\n",
      "{'_id': ObjectId('5e77189e1340a85849bbed85'), 'type': 'Feature', 'properties': {'raster_val': '0.027320117'}, 'geometry': {'type': 'Point', 'coordinates': [62.13208309980001, 33.86625006591001]}}\n",
      "{'_id': ObjectId('5e77189e1340a85849bbed95'), 'type': 'Feature', 'properties': {'raster_val': '0.14413558'}, 'geometry': {'type': 'Point', 'coordinates': [62.13208309980001, 33.86625006591001]}}\n"
     ]
    }
   ],
   "source": [
    "features = geo_collection.find({'geometry' : {'$nearSphere': [62.21541, 34.34125]}}).limit(5)\n",
    "\n",
    "for f in features:\n",
    "    print(f)"
   ]
  },
  {
   "cell_type": "code",
   "execution_count": null,
   "metadata": {},
   "outputs": [],
   "source": []
  }
 ],
 "metadata": {
  "kernelspec": {
   "display_name": "Python 3",
   "language": "python",
   "name": "python3"
  },
  "language_info": {
   "codemirror_mode": {
    "name": "ipython",
    "version": 3
   },
   "file_extension": ".py",
   "mimetype": "text/x-python",
   "name": "python",
   "nbconvert_exporter": "python",
   "pygments_lexer": "ipython3",
   "version": "3.7.6"
  }
 },
 "nbformat": 4,
 "nbformat_minor": 4
}
