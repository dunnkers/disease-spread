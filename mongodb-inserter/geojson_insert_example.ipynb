{
 "cells": [
  {
   "cell_type": "code",
   "execution_count": null,
   "metadata": {},
   "outputs": [],
   "source": [
    "#!/usr/bin/env python\n",
    "# coding: utf-8\n",
    "\n",
    "from pymongo import MongoClient, GEOSPHERE\n",
    "from os import getenv"
   ]
  },
  {
   "cell_type": "code",
   "execution_count": null,
   "metadata": {},
   "outputs": [],
   "source": [
    "password = getenv('MONGODB_ROOT_PASSWORD')\n",
    "client = MongoClient('mongodb://root:{}@my-mongodb:27017'.format(password))\n",
    "db = client['geotest-db']"
   ]
  },
  {
   "cell_type": "code",
   "execution_count": null,
   "metadata": {},
   "outputs": [],
   "source": [
    "# print(getenv('MONGODB_ROOT_PASSWORD'))"
   ]
  },
  {
   "cell_type": "code",
   "execution_count": null,
   "metadata": {},
   "outputs": [],
   "source": [
    "print(db.list_collection_names())\n",
    "\n",
    "collection = db['geotest-collection']\n",
    "collection.create_index([('location', GEOSPHERE)])\n",
    "\n",
    "print(collection.index_information())"
   ]
  },
  {
   "cell_type": "code",
   "execution_count": null,
   "metadata": {},
   "outputs": [],
   "source": [
    "# for x in range(20000):\n",
    "#     for y in range(20000):\n",
    "#         collection.insert_one({\n",
    "#             'name': \"point %d - %d\" % (x,y),\n",
    "#             'location' : [x % 180, y % 90]\n",
    "#         })\n",
    "\n",
    "\n",
    "points = collection.find({'location': {'$nearSphere' : [3,7]}}).limit(5)\n",
    "\n",
    "for p in points:\n",
    "    print(p)"
   ]
  },
  {
   "cell_type": "code",
   "execution_count": null,
   "metadata": {},
   "outputs": [],
   "source": [
    "points = collection.find({'location': {'$within': {'$box': [[2,2], [6,6]]}}})\n",
    "\n",
    "total = 0\n",
    "for p in points:\n",
    "    print(p)\n",
    "    total += 1\n",
    "print(total)"
   ]
  },
  {
   "cell_type": "code",
   "execution_count": null,
   "metadata": {},
   "outputs": [],
   "source": [
    "from kafka import KafkaConsumer\n",
    "from json import loads\n",
    "from pymongo import MongoClient, GEOSPHERE\n",
    "from os import getenv"
   ]
  },
  {
   "cell_type": "code",
   "execution_count": null,
   "metadata": {},
   "outputs": [],
   "source": [
    "password = getenv('MONGODB_ROOT_PASSWORD')\n",
    "client = MongoClient('mongodb://root:{}@my-mongodb:27017'.format(password))\n",
    "db = client['geotest-db']"
   ]
  },
  {
   "cell_type": "code",
   "execution_count": null,
   "metadata": {},
   "outputs": [],
   "source": [
    "consumer = KafkaConsumer(\n",
    "  '2020_pop_geojson_covid19',\n",
    "  bootstrap_servers=['my-kafka:9092'], \n",
    "  auto_offset_reset='earliest',\n",
    "  enable_auto_commit=False,\n",
    "  value_deserializer= lambda x: loads(x.decode('utf-8'))\n",
    ")"
   ]
  },
  {
   "cell_type": "code",
   "execution_count": null,
   "metadata": {},
   "outputs": [],
   "source": [
    "geo_collection = db['2020_pop_geojson']"
   ]
  },
  {
   "cell_type": "code",
   "execution_count": null,
   "metadata": {},
   "outputs": [],
   "source": [
    "geo_collection.create_index([('geometry', GEOSPHERE)])"
   ]
  },
  {
   "cell_type": "code",
   "execution_count": null,
   "metadata": {},
   "outputs": [],
   "source": [
    "break_point = 10\n",
    "counter = 0\n",
    "for message in consumer:\n",
    "  body = message.value\n",
    "  print(\"received a new message: \", body)\n",
    "  geo_collection.insert(body)\n",
    "    \n",
    "#   collection.insert({\"date_received\": date.today().__str__(), \"data\": body})"
   ]
  },
  {
   "cell_type": "code",
   "execution_count": null,
   "metadata": {},
   "outputs": [],
   "source": [
    "consumer.subscribe('2020_pop_geojson')"
   ]
  },
  {
   "cell_type": "code",
   "execution_count": null,
   "metadata": {},
   "outputs": [],
   "source": [
    "features = geo_collection.find({'geometry' : {'$within': {'$box' : [[100, 100],[0,0]]}}}).limit(5)\n",
    "\n",
    "for f in features:\n",
    "    print(f)"
   ]
  },
  {
   "cell_type": "code",
   "execution_count": null,
   "metadata": {},
   "outputs": [],
   "source": [
    "features = geo_collection.find({'geometry' : {'$nearSphere': [62.21541, 34.34125]}}).limit(5)\n",
    "\n",
    "for f in features:\n",
    "    print(f)"
   ]
  },
  {
   "cell_type": "code",
   "execution_count": null,
   "metadata": {},
   "outputs": [],
   "source": []
  }
 ],
 "metadata": {
  "kernelspec": {
   "display_name": "Python 3",
   "language": "python",
   "name": "python3"
  },
  "language_info": {
   "codemirror_mode": {
    "name": "ipython",
    "version": 3
   },
   "file_extension": ".py",
   "mimetype": "text/x-python",
   "name": "python",
   "nbconvert_exporter": "python",
   "pygments_lexer": "ipython3",
   "version": "3.7.6"
  }
 },
 "nbformat": 4,
 "nbformat_minor": 4
}
