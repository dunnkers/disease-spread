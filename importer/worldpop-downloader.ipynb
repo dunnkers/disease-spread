{
 "cells": [
  {
   "cell_type": "code",
   "execution_count": 1,
   "metadata": {},
   "outputs": [],
   "source": [
    "import shutil\n",
    "import urllib.request as request\n",
    "from contextlib import closing\n",
    "\n",
    "year = 2020\n",
    "with closing(request.urlopen('ftp://ftp.worldpop.org.uk/GIS/Population/Global_2000_2020/{}/0_Mosaicked/ppp_{}_1km_Aggregated.tif'.format(year, year))) as r:\n",
    "    with open('{}_pop.tif'.format(year), 'wb') as f:\n",
    "        shutil.copyfileobj(r, f)\n"
   ]
  },
  {
   "cell_type": "code",
   "execution_count": 4,
   "metadata": {},
   "outputs": [
    {
     "data": {
      "text/plain": [
       "os.stat_result(st_mode=33188, st_ino=13, st_dev=2096, st_nlink=1, st_uid=1000, st_gid=2000, st_size=869715253, st_atime=1584089582, st_mtime=1584089613, st_ctime=1584089613)"
      ]
     },
     "execution_count": 4,
     "metadata": {},
     "output_type": "execute_result"
    }
   ],
   "source": [
    "import os\n",
    "\n",
    "os.stat('./{}_pop.tif'.format(year))"
   ]
  }
 ],
 "metadata": {
  "kernelspec": {
   "display_name": "Python 3",
   "language": "python",
   "name": "python3"
  },
  "language_info": {
   "codemirror_mode": {
    "name": "ipython",
    "version": 3
   },
   "file_extension": ".py",
   "mimetype": "text/x-python",
   "name": "python",
   "nbconvert_exporter": "python",
   "pygments_lexer": "ipython3",
   "version": "3.7.6"
  }
 },
 "nbformat": 4,
 "nbformat_minor": 4
}
