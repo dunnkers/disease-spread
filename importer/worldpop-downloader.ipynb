{
 "cells": [
  {
   "cell_type": "markdown",
   "metadata": {},
   "source": [
    "### Downloading data from worldpop.org"
   ]
  },
  {
   "cell_type": "code",
   "execution_count": 2,
   "metadata": {},
   "outputs": [],
   "source": [
    "import shutil\n",
    "import urllib.request as request\n",
    "from contextlib import closing\n",
    "import os\n",
    "\n",
    "# Downloads tif file. Note that showing a progress bar is not possible due\n",
    "# to limitations in the `shutil.copyfileobj()` function.\n",
    "def download_tif(filename, url):\n",
    "    with closing(request.urlopen(url)) as r:\n",
    "        with open(filename, 'wb') as f:\n",
    "            shutil.copyfileobj(r, f)\n",
    "            \n",
    "    print('Download completed! Saved to {}. File stats: {}'.format(, filename, os.stat(filename)))\n",
    "    os.stat(filename)"
   ]
  },
  {
   "cell_type": "markdown",
   "metadata": {},
   "source": [
    "Download **population** data for a specific year"
   ]
  },
  {
   "cell_type": "code",
   "execution_count": 1,
   "metadata": {},
   "outputs": [],
   "source": [
    "year = 2020\n",
    "url = 'ftp://ftp.worldpop.org.uk/GIS/Population/Global_2000_2020/{}/0_Mosaicked/ppp_{}_1km_Aggregated.tif'.format(year, year)\n",
    "download_tif('{}_pop.tif'.format(year), url)"
   ]
  },
  {
   "cell_type": "markdown",
   "metadata": {},
   "source": [
    "Download **age and sex** data: females > 80 years old"
   ]
  },
  {
   "cell_type": "code",
   "execution_count": 3,
   "metadata": {},
   "outputs": [
    {
     "name": "stdout",
     "output_type": "stream",
     "text": [
      "Download completed! Saved to {}. File stats: {} 2020_pop_old_females.tif os.stat_result(st_mode=33188, st_ino=15, st_dev=2096, st_nlink=1, st_uid=1000, st_gid=2000, st_size=3278573994, st_atime=1584897350, st_mtime=1584897464, st_ctime=1584897464)\n"
     ]
    }
   ],
   "source": [
    "year = 2020\n",
    "url = 'ftp://ftp.worldpop.org.uk/GIS/AgeSex_structures/Global_2000_2020/{}/0_Mosaicked/global_mosaic_1km/global_f_80_{}_1km.tif'.format(year, year)\n",
    "download_tif('{}_pop_old_females.tif'.format(year), url)"
   ]
  }
 ],
 "metadata": {
  "kernelspec": {
   "display_name": "Python 3",
   "language": "python",
   "name": "python3"
  },
  "language_info": {
   "codemirror_mode": {
    "name": "ipython",
    "version": 3
   },
   "file_extension": ".py",
   "mimetype": "text/x-python",
   "name": "python",
   "nbconvert_exporter": "python",
   "pygments_lexer": "ipython3",
   "version": "3.7.6"
  }
 },
 "nbformat": 4,
 "nbformat_minor": 4
}
