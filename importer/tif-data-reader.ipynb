{
 "cells": [
  {
   "cell_type": "code",
   "execution_count": 1,
   "metadata": {},
   "outputs": [
    {
     "name": "stdout",
     "output_type": "stream",
     "text": [
      "{'driver': 'GTiff', 'dtype': 'float32', 'nodata': -3.4028234663852886e+38, 'width': 43200, 'height': 18720, 'count': 1, 'crs': CRS.from_epsg(4326), 'transform': Affine(0.0083333333, 0.0, -180.001249265,\n",
      "       0.0, -0.0083333333, 83.99958319871001), 'blockxsize': 256, 'blockysize': 256, 'tiled': True, 'compress': 'lzw', 'interleave': 'band'}\n",
      "BoundingBox(left=-180.001249265, bottom=-72.00041617728999, right=179.99874929500004, top=83.99958319871001)\n",
      "\n",
      "src contains 12506 blocks of size 256x256\n"
     ]
    },
    {
     "data": {
      "text/plain": [
       "<kafka.producer.future.FutureRecordMetadata at 0x7f300c5d1190>"
      ]
     },
     "execution_count": 1,
     "metadata": {},
     "output_type": "execute_result"
    }
   ],
   "source": [
    "## import json\n",
    "import rasterio\n",
    "import rasterio.features\n",
    "import numpy as np\n",
    "from kafka import KafkaProducer\n",
    "from json import dumps\n",
    "\n",
    "# initialize Kafka producer\n",
    "producer = KafkaProducer(bootstrap_servers=['my-kafka:9092'], value_serializer=lambda x: dumps(x).encode('utf-8'))\n",
    "\n",
    "# read in data and windows\n",
    "src = rasterio.open('./2020_pop.tif')\n",
    "print(src.profile)\n",
    "print(src.bounds)\n",
    "windows = [window for ij, window in src.block_windows()]\n",
    "print('\\nsrc contains {} blocks of size {}x{}'.format(\n",
    "    np.shape(windows)[0], windows[0].width, windows[0].height\n",
    "))\n",
    "\n",
    "# send metadata to kafka\n",
    "meta = {\n",
    "    'width': src.width,\n",
    "    'height': src.height,\n",
    "    'blockxsize': windows[0].width,\n",
    "    'blockysize': windows[0].height,\n",
    "    'bounds': src.bounds,\n",
    "    'window_count': np.shape(windows)[0]\n",
    "}\n",
    "producer.send('2020_pop_meta', value=meta)"
   ]
  },
  {
   "cell_type": "markdown",
   "metadata": {},
   "source": [
    "As an example, take one window and plot it. Also, show the total summation of population for that window."
   ]
  },
  {
   "cell_type": "code",
   "execution_count": 2,
   "metadata": {},
   "outputs": [
    {
     "name": "stdout",
     "output_type": "stream",
     "text": [
      "(256, 256)\n",
      "bounds = (61.06541643740002, 32.79958340351001, 63.19874976220001, 34.93291672831001)\n",
      "center point: (62.13208309980001, 33.86625006591001)\n",
      "total population: 2188118.5\n"
     ]
    },
    {
     "data": {
      "text/plain": [
       "<matplotlib.image.AxesImage at 0x7f300806c850>"
      ]
     },
     "execution_count": 2,
     "metadata": {},
     "output_type": "execute_result"
    },
    {
     "data": {
      "image/png": "[encoded data removed]",
      "text/plain": [
       "<Figure size 432x288 with 1 Axes>"
      ]
     },
     "metadata": {
      "needs_background": "light"
     },
     "output_type": "display_data"
    }
   ],
   "source": [
    "import matplotlib.pyplot as plt\n",
    "\n",
    "window = windows[4000]\n",
    "data = src.read(1, window=window)\n",
    "print(np.shape(data))\n",
    "bounds = rasterio.windows.bounds(window, src.transform)\n",
    "print('bounds = {}'.format(bounds))\n",
    "left, bottom, right, top = bounds # deconstruct tuple\n",
    "center = (np.mean([left, right]), np.mean([bottom, top]))\n",
    "print('center point: {}'.format(center))\n",
    "print('total population: {}'.format(np.sum(data)))\n",
    "plt.imshow(data)"
   ]
  },
  {
   "cell_type": "markdown",
   "metadata": {},
   "source": [
    "Loop all windows and send the total population to Kafka."
   ]
  },
  {
   "cell_type": "code",
   "execution_count": 3,
   "metadata": {},
   "outputs": [
    {
     "data": {
      "application/vnd.jupyter.widget-view+json": {
       "model_id": "e21991b78bea4000903b7e79e14eb4cd",
       "version_major": 2,
       "version_minor": 0
      },
      "text/plain": [
       "HBox(children=(FloatProgress(value=0.0, max=12506.0), HTML(value='')))"
      ]
     },
     "metadata": {},
     "output_type": "display_data"
    },
    {
     "name": "stdout",
     "output_type": "stream",
     "text": [
      "\n"
     ]
    }
   ],
   "source": [
    "from tqdm.notebook import tqdm\n",
    "\n",
    "for window in tqdm(windows):\n",
    "    data = src.read(1, window=window, masked=True)\n",
    "    total = np.sum(data)\n",
    "    bounds = rasterio.windows.bounds(window, src.transform)\n",
    "    left, bottom, right, top = bounds\n",
    "    center = (np.mean([left, right]), np.mean([bottom, top]))\n",
    "    \n",
    "    # skip empty windows\n",
    "    if not total > 0:\n",
    "        continue\n",
    "    \n",
    "    # construct geojson geometry - a point\n",
    "    geom = {\n",
    "        'type': 'Point',\n",
    "        'coordinates': center\n",
    "    }\n",
    "    # construct geojson feature\n",
    "    feature = {\n",
    "        'type': 'Feature', \n",
    "        'properties': {'raster_val': str(total)}, # use str(total) because else not serializable\n",
    "        'geometry': geom\n",
    "    }\n",
    "    \n",
    "    # send to Kafka\n",
    "    producer.send('2020_pop_points', value=feature)"
   ]
  },
  {
   "cell_type": "code",
   "execution_count": null,
   "metadata": {},
   "outputs": [],
   "source": []
  }
 ],
 "metadata": {
  "kernelspec": {
   "display_name": "Python 3",
   "language": "python",
   "name": "python3"
  },
  "language_info": {
   "codemirror_mode": {
    "name": "ipython",
    "version": 3
   },
   "file_extension": ".py",
   "mimetype": "text/x-python",
   "name": "python",
   "nbconvert_exporter": "python",
   "pygments_lexer": "ipython3",
   "version": "3.7.6"
  }
 },
 "nbformat": 4,
 "nbformat_minor": 4
}
